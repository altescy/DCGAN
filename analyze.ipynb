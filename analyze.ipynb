{
 "cells": [
  {
   "cell_type": "markdown",
   "metadata": {},
   "source": [
    "<br />\n",
    "\n",
    "<div style=\"text-align: center;\">\n",
    "<font size=\"7\">DCGAN</font>\n",
    "</div>\n",
    "<br />\n"
   ]
  },
  {
   "cell_type": "markdown",
   "metadata": {},
   "source": [
    "# 準備"
   ]
  },
  {
   "cell_type": "markdown",
   "metadata": {},
   "source": [
    "## データセットの用意"
   ]
  },
  {
   "cell_type": "code",
   "execution_count": 62,
   "metadata": {
    "collapsed": true
   },
   "outputs": [],
   "source": [
    "import numpy as np\n",
    "import pickle\n",
    "\n",
    "datafile = './data/colorface.pkl'\n",
    "\n",
    "with open(datafile, 'rb') as f:\n",
    "    dataset = pickle.load(f)"
   ]
  },
  {
   "cell_type": "markdown",
   "metadata": {},
   "source": [
    "## 加工\n",
    "- データセットの数値を$[-1, 1]$に収める"
   ]
  },
  {
   "cell_type": "code",
   "execution_count": 63,
   "metadata": {
    "collapsed": false
   },
   "outputs": [],
   "source": [
    "n_data, w, h, n_channel = dataset.shape\n",
    "X = np.swapaxes(np.swapaxes(dataset, 1, 3), 2, 3)\n",
    "X = (X - 128.0) / 128.0\n",
    "X = X.reshape(n_data, n_channel, w, h)"
   ]
  },
  {
   "cell_type": "markdown",
   "metadata": {},
   "source": [
    "## データ概要"
   ]
  },
  {
   "cell_type": "code",
   "execution_count": 65,
   "metadata": {
    "collapsed": false,
    "scrolled": false
   },
   "outputs": [
    {
     "data": {
      "text/plain": [
       "(5996, 3, 96, 96)"
      ]
     },
     "execution_count": 65,
     "metadata": {},
     "output_type": "execute_result"
    }
   ],
   "source": [
    "X.shape"
   ]
  },
  {
   "cell_type": "markdown",
   "metadata": {},
   "source": [
    "## ERU関数"
   ]
  },
  {
   "cell_type": "code",
   "execution_count": 39,
   "metadata": {
    "collapsed": false
   },
   "outputs": [],
   "source": [
    "import chainer\n",
    "from chainer import function\n",
    "from chainer.utils import type_check\n",
    "\n",
    "class ELU(function.Function):\n",
    "\n",
    "    \"\"\"Exponential Linear Unit.\"\"\"\n",
    "    # https://github.com/muupan/chainer-elu\n",
    "\n",
    "    def __init__(self, alpha=1.0):\n",
    "        self.alpha = np.float32(alpha)\n",
    "\n",
    "    def check_type_forward(self, in_types):\n",
    "        type_check.expect(in_types.size() == 1)\n",
    "        x_type, = in_types\n",
    "\n",
    "        type_check.expect(\n",
    "            x_type.dtype == np.float32,\n",
    "        )\n",
    "\n",
    "    def forward_cpu(self, x):\n",
    "        y = x[0].copy()\n",
    "        neg_indices = x[0] < 0\n",
    "        y[neg_indices] = self.alpha * (np.exp(y[neg_indices]) - 1)\n",
    "        return y,\n",
    "\n",
    "    def forward_gpu(self, x):\n",
    "        y = cuda.elementwise(\n",
    "            'T x, T alpha', 'T y',\n",
    "            'y = x >= 0 ? x : alpha * (exp(x) - 1)', 'elu_fwd')(\n",
    "                x[0], self.alpha)\n",
    "        return y,\n",
    "\n",
    "    def backward_cpu(self, x, gy):\n",
    "        gx = gy[0].copy()\n",
    "        neg_indices = x[0] < 0\n",
    "        gx[neg_indices] *= self.alpha * np.exp(x[0][neg_indices])\n",
    "        return gx,\n",
    "\n",
    "    def backward_gpu(self, x, gy):\n",
    "        gx = cuda.elementwise(\n",
    "            'T x, T gy, T alpha', 'T gx',\n",
    "            'gx = x >= 0 ? gy : gy * alpha * exp(x)', 'elu_bwd')(\n",
    "                x[0], gy[0], self.alpha)\n",
    "        return gx,"
   ]
  },
  {
   "cell_type": "code",
   "execution_count": 40,
   "metadata": {
    "collapsed": true
   },
   "outputs": [],
   "source": [
    "def elu(x, alpha=1.0):\n",
    "    \"\"\"Exponential Linear Unit function.\"\"\"\n",
    "    # https://github.com/muupan/chainer-elu\n",
    "    return ELU(alpha=alpha)(x)"
   ]
  },
  {
   "cell_type": "markdown",
   "metadata": {},
   "source": [
    "## 画像出力正規化関数"
   ]
  },
  {
   "cell_type": "code",
   "execution_count": 41,
   "metadata": {
    "collapsed": true
   },
   "outputs": [],
   "source": [
    "def clip_img(x):\n",
    "\treturn np.float32(-1 if x< -1 else (1 if x>1 else x))"
   ]
  },
  {
   "cell_type": "markdown",
   "metadata": {},
   "source": [
    "# DCGAN"
   ]
  },
  {
   "cell_type": "markdown",
   "metadata": {},
   "source": [
    "## Generator"
   ]
  },
  {
   "cell_type": "code",
   "execution_count": 42,
   "metadata": {
    "collapsed": true
   },
   "outputs": [],
   "source": [
    "from chainer import Chain\n",
    "from chainer import links as L, functions as F\n",
    "\n",
    "class Generator(Chain):\n",
    "    def __init__(self, nz):\n",
    "        super(Generator, self).__init__(\n",
    "            l0z = L.Linear(nz, 6*6*512, wscale=0.02*np.sqrt(nz)),\n",
    "            dc1 = L.Deconvolution2D(512, 256, 4, stride=2, pad=1, wscale=0.02*np.sqrt(4*4*512)),\n",
    "            dc2 = L.Deconvolution2D(256, 128, 4, stride=2, pad=1, wscale=0.02*np.sqrt(4*4*256)),\n",
    "            dc3 = L.Deconvolution2D(128, 64, 4, stride=2, pad=1, wscale=0.02*np.sqrt(4*4*128)),\n",
    "            dc4 = L.Deconvolution2D(64, 3, 4, stride=2, pad=1, wscale=0.02*np.sqrt(4*4*64)),\n",
    "            bn0l = L.BatchNormalization(6*6*512),\n",
    "            bn0 = L.BatchNormalization(512),\n",
    "            bn1 = L.BatchNormalization(256),\n",
    "            bn2 = L.BatchNormalization(128),\n",
    "            bn3 = L.BatchNormalization(64),\n",
    "        )\n",
    "        \n",
    "    def __call__(self, z, test=False):\n",
    "        h = F.reshape(F.relu(self.bn0l(self.l0z(z), test=test)), (z.shape[0], 512, 6, 6))\n",
    "        h = F.relu(self.bn1(self.dc1(h), test=test))\n",
    "        h = F.relu(self.bn2(self.dc2(h), test=test))\n",
    "        h = F.relu(self.bn3(self.dc3(h), test=test))\n",
    "        x = (self.dc4(h))\n",
    "        return x"
   ]
  },
  {
   "cell_type": "markdown",
   "metadata": {},
   "source": [
    "## Discriminator"
   ]
  },
  {
   "cell_type": "code",
   "execution_count": 43,
   "metadata": {
    "collapsed": false
   },
   "outputs": [],
   "source": [
    "class Discriminator(Chain):\n",
    "    def __init__(self):\n",
    "        super(Discriminator, self).__init__(\n",
    "            c0 = L.Convolution2D(3, 64, 4, stride=2, pad=1, wscale=0.02*np.sqrt(4*4*3)),\n",
    "            c1 = L.Convolution2D(64, 128, 4, stride=2, pad=1, wscale=0.02*np.sqrt(4*4*64)),\n",
    "            c2 = L.Convolution2D(128, 256, 4, stride=2, pad=1, wscale=0.02*np.sqrt(4*4*128)),\n",
    "            c3 = L.Convolution2D(256, 512, 4, stride=2, pad=1, wscale=0.02*np.sqrt(4*4*256)),\n",
    "            l4l = L.Linear(6*6*512, 2, wscale=0.02*np.sqrt(6*6*512)),\n",
    "            bn0 = L.BatchNormalization(64),\n",
    "            bn1 = L.BatchNormalization(128),\n",
    "            bn2 = L.BatchNormalization(256),\n",
    "            bn3 = L.BatchNormalization(512),\n",
    "        )\n",
    "        \n",
    "    def __call__(self, x, test=False):\n",
    "        h = elu(self.c0(x))     # no bn because images from generator will katayotteru?\n",
    "        h = elu(self.bn1(self.c1(h), test=test))\n",
    "        h = elu(self.bn2(self.c2(h), test=test))\n",
    "        h = elu(self.bn3(self.c3(h), test=test))\n",
    "        l = self.l4l(h)\n",
    "        return l"
   ]
  },
  {
   "cell_type": "markdown",
   "metadata": {},
   "source": [
    "# トレーニング\n",
    "GANは以下の，価値関数$V(G, D)$で表現されるminimaxゲームとして定義できる:\n",
    "- $\\min_{G} V(G,D) = \\mathbb{E}_{x \\sim P_{data}(x)} \\left[ \\ln{D(x)} \\right] + \\mathbb{E}_{x \\sim P_{z}(x)} \\left[ \\ln{(1 - D(x))} \\right]$"
   ]
  },
  {
   "cell_type": "markdown",
   "metadata": {},
   "source": [
    "## Generator, Discriminator, Optimizerの設定"
   ]
  },
  {
   "cell_type": "code",
   "execution_count": 27,
   "metadata": {
    "collapsed": false
   },
   "outputs": [],
   "source": [
    "from chainer import Variable, optimizers\n",
    "\n",
    "nz = 100\n",
    "\n",
    "gen = Generator(nz)\n",
    "dis = Discriminator()\n",
    "\n",
    "o_gen = optimizers.Adam(alpha=0.0002, beta1=0.5)\n",
    "o_dis = optimizers.Adam(alpha=0.0002, beta1=0.5)\n",
    "o_gen.setup(gen)\n",
    "o_dis.setup(dis)\n",
    "o_gen.add_hook(chainer.optimizer.WeightDecay(0.00001))\n",
    "o_dis.add_hook(chainer.optimizer.WeightDecay(0.00001))\n",
    "\n",
    "error_gen = []\n",
    "error_dis = []"
   ]
  },
  {
   "cell_type": "markdown",
   "metadata": {},
   "source": [
    "## 実行"
   ]
  },
  {
   "cell_type": "code",
   "execution_count": 68,
   "metadata": {
    "collapsed": false
   },
   "outputs": [],
   "source": [
    "from chainer import optimizers, Variable\n",
    "from chainer import serializers\n",
    "from PIL import Image\n",
    "from ipywidgets import FloatProgress\n",
    "from IPython.display import display\n",
    "\n",
    "beginning = 301\n",
    "n_epoch = 50\n",
    "batchsize = 100\n",
    "img_save_interval = 2\n",
    "model_save_interval = 10\n",
    "\n",
    "fp = FloatProgress(min=0, max=n_data*n_epoch)\n",
    "display(fp)\n",
    "\n",
    "\n",
    "for epoch in range(beginning, beginning + n_epoch):\n",
    "    sum_l_gen = 0\n",
    "    sum_l_dis = 0\n",
    "    shuffidx = np.random.permutation(n_data)\n",
    "    for i in range(0, n_data, batchsize):\n",
    "        X_batch = X[shuffidx[i : i + batchsize if i + batchsize < n_data else n_data]]\n",
    "        X_batch = np.array([x[:,:,::-1] if np.random.randint(2) == 0 else x for x in X_batch])\n",
    "        nb = len(X_batch)\n",
    "        z = Variable(np.random.uniform(-1, 1, (nb, nz)).astype(np.float32))\n",
    "        \n",
    "        xz = gen(z)\n",
    "        yz = dis(xz)\n",
    "        L_gen = F.softmax_cross_entropy(yz, Variable(np.zeros(nb, dtype=np.int32)))\n",
    "        L_dis = F.softmax_cross_entropy(yz, Variable(np.ones(nb, dtype=np.int32)))\n",
    "        \n",
    "        xi = Variable(X_batch)\n",
    "        yi = dis(xi)\n",
    "        L_dis += F.softmax_cross_entropy(yi, Variable(np.zeros(nb, dtype=np.int32)))\n",
    "        \n",
    "        o_gen.zero_grads()\n",
    "        L_gen.backward()\n",
    "        o_gen.update()\n",
    "\n",
    "        o_dis.zero_grads()\n",
    "        L_dis.backward()\n",
    "        o_dis.update()\n",
    "        \n",
    "        sum_l_gen += L_gen.data\n",
    "        sum_l_dis += L_dis.data\n",
    "                \n",
    "        fp.value = n_data * (epoch - beginning) + i\n",
    "    \n",
    "    if epoch % img_save_interval == 0:\n",
    "        x_ = gen(Variable(np.random.uniform(-1, 1, (100, nz)).astype(np.float32)))\n",
    "        img = ((np.vectorize(clip_img)(x_[0].data)+1)/2).transpose(1,2,0)\n",
    "        Image.fromarray(np.uint8(img*255)).save('./model/analyze/images/img_%depoch.png'%epoch)\n",
    "    \n",
    "    if epoch % model_save_interval == 0:\n",
    "        serializers.save_npz('./model/analyze/gen-%depochs.npz'%epoch, gen)\n",
    "        serializers.save_npz('./model/analyze/dis-%depochs.npz'%epoch, dis)\n",
    "\n",
    "    error_gen.append(sum_l_gen / n_data)\n",
    "    error_dis.append(sum_l_dis / n_data)"
   ]
  },
  {
   "cell_type": "code",
   "execution_count": 69,
   "metadata": {
    "collapsed": false,
    "scrolled": false
   },
   "outputs": [
    {
     "data": {
      "image/png": "[encoded data removed]",
      "text/plain": [
       "<matplotlib.figure.Figure at 0x7f3336216f28>"
      ]
     },
     "metadata": {},
     "output_type": "display_data"
    }
   ],
   "source": [
    "plt.plot(error_dis, label='dis')\n",
    "plt.plot(error_gen, label='gen')\n",
    "plt.legend()\n",
    "plt.show()"
   ]
  }
 ],
 "metadata": {
  "anaconda-cloud": {},
  "kernelspec": {
   "display_name": "Python 3",
   "language": "python",
   "name": "python3"
  },
  "language_info": {
   "codemirror_mode": {
    "name": "ipython",
    "version": 3
   },
   "file_extension": ".py",
   "mimetype": "text/x-python",
   "name": "python",
   "nbconvert_exporter": "python",
   "pygments_lexer": "ipython3",
   "version": "3.6.0"
  },
  "latex_envs": {
   "LaTeX_envs_menu_present": true,
   "bibliofile": "biblio.bib",
   "cite_by": "apalike",
   "current_citInitial": 1,
   "eqLabelWithNumbers": true,
   "eqNumInitial": 1,
   "hotkeys": {
    "equation": "Ctrl-E",
    "itemize": "Ctrl-I"
   },
   "labels_anchors": false,
   "latex_user_defs": false,
   "report_style_numbering": false,
   "user_envs_cfg": false
  },
  "toc": {
   "colors": {
    "hover_highlight": "#DAA520",
    "running_highlight": "#FF0000",
    "selected_highlight": "#FFD700"
   },
   "moveMenuLeft": true,
   "nav_menu": {
    "height": "225px",
    "width": "252px"
   },
   "navigate_menu": true,
   "number_sections": true,
   "sideBar": true,
   "threshold": 4,
   "toc_cell": false,
   "toc_section_display": "block",
   "toc_window_display": false
  }
 },
 "nbformat": 4,
 "nbformat_minor": 2
}
